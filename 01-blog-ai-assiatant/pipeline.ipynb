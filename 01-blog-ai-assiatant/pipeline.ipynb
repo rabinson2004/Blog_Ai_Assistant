{
 "cells": [
  {
   "cell_type": "code",
   "execution_count": 11,
   "metadata": {},
   "outputs": [
    {
     "name": "stdout",
     "output_type": "stream",
     "text": [
      "Requirement already satisfied: html2text in /Users/1zuu/miniforge3/envs/llamaindex/lib/python3.9/site-packages (2020.1.16)\n",
      "Requirement already satisfied: requests_html in /Users/1zuu/miniforge3/envs/llamaindex/lib/python3.9/site-packages (0.10.0)\n",
      "Requirement already satisfied: requests in /Users/1zuu/miniforge3/envs/llamaindex/lib/python3.9/site-packages (from requests_html) (2.31.0)\n",
      "Requirement already satisfied: pyquery in /Users/1zuu/miniforge3/envs/llamaindex/lib/python3.9/site-packages (from requests_html) (2.0.0)\n",
      "Requirement already satisfied: fake-useragent in /Users/1zuu/miniforge3/envs/llamaindex/lib/python3.9/site-packages (from requests_html) (1.3.0)\n",
      "Requirement already satisfied: parse in /Users/1zuu/miniforge3/envs/llamaindex/lib/python3.9/site-packages (from requests_html) (1.19.1)\n",
      "Requirement already satisfied: bs4 in /Users/1zuu/miniforge3/envs/llamaindex/lib/python3.9/site-packages (from requests_html) (0.0.1)\n",
      "Requirement already satisfied: w3lib in /Users/1zuu/miniforge3/envs/llamaindex/lib/python3.9/site-packages (from requests_html) (2.1.2)\n",
      "Requirement already satisfied: pyppeteer>=0.0.14 in /Users/1zuu/miniforge3/envs/llamaindex/lib/python3.9/site-packages (from requests_html) (1.0.2)\n",
      "Requirement already satisfied: appdirs<2.0.0,>=1.4.3 in /Users/1zuu/miniforge3/envs/llamaindex/lib/python3.9/site-packages (from pyppeteer>=0.0.14->requests_html) (1.4.4)\n",
      "Requirement already satisfied: certifi>=2021 in /Users/1zuu/miniforge3/envs/llamaindex/lib/python3.9/site-packages (from pyppeteer>=0.0.14->requests_html) (2023.11.17)\n",
      "Requirement already satisfied: importlib-metadata>=1.4 in /Users/1zuu/miniforge3/envs/llamaindex/lib/python3.9/site-packages (from pyppeteer>=0.0.14->requests_html) (6.8.0)\n",
      "Requirement already satisfied: pyee<9.0.0,>=8.1.0 in /Users/1zuu/miniforge3/envs/llamaindex/lib/python3.9/site-packages (from pyppeteer>=0.0.14->requests_html) (8.2.2)\n",
      "Requirement already satisfied: tqdm<5.0.0,>=4.42.1 in /Users/1zuu/miniforge3/envs/llamaindex/lib/python3.9/site-packages (from pyppeteer>=0.0.14->requests_html) (4.66.1)\n",
      "Requirement already satisfied: urllib3<2.0.0,>=1.25.8 in /Users/1zuu/miniforge3/envs/llamaindex/lib/python3.9/site-packages (from pyppeteer>=0.0.14->requests_html) (1.26.18)\n",
      "Requirement already satisfied: websockets<11.0,>=10.0 in /Users/1zuu/miniforge3/envs/llamaindex/lib/python3.9/site-packages (from pyppeteer>=0.0.14->requests_html) (10.4)\n",
      "Requirement already satisfied: beautifulsoup4 in /Users/1zuu/miniforge3/envs/llamaindex/lib/python3.9/site-packages (from bs4->requests_html) (4.12.2)\n",
      "Requirement already satisfied: importlib-resources>=5.0 in /Users/1zuu/miniforge3/envs/llamaindex/lib/python3.9/site-packages (from fake-useragent->requests_html) (6.1.1)\n",
      "Requirement already satisfied: lxml>=2.1 in /Users/1zuu/miniforge3/envs/llamaindex/lib/python3.9/site-packages (from pyquery->requests_html) (4.9.3)\n",
      "Requirement already satisfied: cssselect>=1.2.0 in /Users/1zuu/miniforge3/envs/llamaindex/lib/python3.9/site-packages (from pyquery->requests_html) (1.2.0)\n",
      "Requirement already satisfied: charset-normalizer<4,>=2 in /Users/1zuu/miniforge3/envs/llamaindex/lib/python3.9/site-packages (from requests->requests_html) (3.3.2)\n",
      "Requirement already satisfied: idna<4,>=2.5 in /Users/1zuu/miniforge3/envs/llamaindex/lib/python3.9/site-packages (from requests->requests_html) (3.4)\n",
      "Requirement already satisfied: zipp>=0.5 in /Users/1zuu/miniforge3/envs/llamaindex/lib/python3.9/site-packages (from importlib-metadata>=1.4->pyppeteer>=0.0.14->requests_html) (3.17.0)\n",
      "Requirement already satisfied: soupsieve>1.2 in /Users/1zuu/miniforge3/envs/llamaindex/lib/python3.9/site-packages (from beautifulsoup4->bs4->requests_html) (2.5)\n",
      "Requirement already satisfied: llama-index in /Users/1zuu/miniforge3/envs/llamaindex/lib/python3.9/site-packages (0.9.5)\n",
      "Requirement already satisfied: SQLAlchemy>=1.4.49 in /Users/1zuu/miniforge3/envs/llamaindex/lib/python3.9/site-packages (from SQLAlchemy[asyncio]>=1.4.49->llama-index) (2.0.23)\n",
      "Requirement already satisfied: aiohttp<4.0.0,>=3.8.6 in /Users/1zuu/miniforge3/envs/llamaindex/lib/python3.9/site-packages (from llama-index) (3.9.0)\n",
      "Requirement already satisfied: aiostream<0.6.0,>=0.5.2 in /Users/1zuu/miniforge3/envs/llamaindex/lib/python3.9/site-packages (from llama-index) (0.5.2)\n",
      "Requirement already satisfied: beautifulsoup4<5.0.0,>=4.12.2 in /Users/1zuu/miniforge3/envs/llamaindex/lib/python3.9/site-packages (from llama-index) (4.12.2)\n",
      "Requirement already satisfied: dataclasses-json in /Users/1zuu/miniforge3/envs/llamaindex/lib/python3.9/site-packages (from llama-index) (0.6.2)\n",
      "Requirement already satisfied: deprecated>=1.2.9.3 in /Users/1zuu/miniforge3/envs/llamaindex/lib/python3.9/site-packages (from llama-index) (1.2.14)\n",
      "Requirement already satisfied: fsspec>=2023.5.0 in /Users/1zuu/miniforge3/envs/llamaindex/lib/python3.9/site-packages (from llama-index) (2023.10.0)\n",
      "Requirement already satisfied: httpx in /Users/1zuu/miniforge3/envs/llamaindex/lib/python3.9/site-packages (from llama-index) (0.25.1)\n",
      "Requirement already satisfied: nest-asyncio<2.0.0,>=1.5.8 in /Users/1zuu/miniforge3/envs/llamaindex/lib/python3.9/site-packages (from llama-index) (1.5.8)\n",
      "Requirement already satisfied: nltk<4.0.0,>=3.8.1 in /Users/1zuu/miniforge3/envs/llamaindex/lib/python3.9/site-packages (from llama-index) (3.8.1)\n",
      "Requirement already satisfied: numpy in /Users/1zuu/miniforge3/envs/llamaindex/lib/python3.9/site-packages (from llama-index) (1.26.2)\n",
      "Requirement already satisfied: openai>=1.1.0 in /Users/1zuu/miniforge3/envs/llamaindex/lib/python3.9/site-packages (from llama-index) (1.3.4)\n",
      "Requirement already satisfied: pandas in /Users/1zuu/miniforge3/envs/llamaindex/lib/python3.9/site-packages (from llama-index) (2.1.3)\n",
      "Requirement already satisfied: tenacity<9.0.0,>=8.2.0 in /Users/1zuu/miniforge3/envs/llamaindex/lib/python3.9/site-packages (from llama-index) (8.2.3)\n",
      "Requirement already satisfied: tiktoken>=0.3.3 in /Users/1zuu/miniforge3/envs/llamaindex/lib/python3.9/site-packages (from llama-index) (0.5.1)\n",
      "Requirement already satisfied: typing-extensions>=4.5.0 in /Users/1zuu/miniforge3/envs/llamaindex/lib/python3.9/site-packages (from llama-index) (4.8.0)\n",
      "Requirement already satisfied: typing-inspect>=0.8.0 in /Users/1zuu/miniforge3/envs/llamaindex/lib/python3.9/site-packages (from llama-index) (0.9.0)\n",
      "Requirement already satisfied: urllib3<2 in /Users/1zuu/miniforge3/envs/llamaindex/lib/python3.9/site-packages (from llama-index) (1.26.18)\n",
      "Requirement already satisfied: attrs>=17.3.0 in /Users/1zuu/miniforge3/envs/llamaindex/lib/python3.9/site-packages (from aiohttp<4.0.0,>=3.8.6->llama-index) (23.1.0)\n",
      "Requirement already satisfied: multidict<7.0,>=4.5 in /Users/1zuu/miniforge3/envs/llamaindex/lib/python3.9/site-packages (from aiohttp<4.0.0,>=3.8.6->llama-index) (6.0.4)\n",
      "Requirement already satisfied: yarl<2.0,>=1.0 in /Users/1zuu/miniforge3/envs/llamaindex/lib/python3.9/site-packages (from aiohttp<4.0.0,>=3.8.6->llama-index) (1.9.3)\n",
      "Requirement already satisfied: frozenlist>=1.1.1 in /Users/1zuu/miniforge3/envs/llamaindex/lib/python3.9/site-packages (from aiohttp<4.0.0,>=3.8.6->llama-index) (1.4.0)\n",
      "Requirement already satisfied: aiosignal>=1.1.2 in /Users/1zuu/miniforge3/envs/llamaindex/lib/python3.9/site-packages (from aiohttp<4.0.0,>=3.8.6->llama-index) (1.3.1)\n",
      "Requirement already satisfied: async-timeout<5.0,>=4.0 in /Users/1zuu/miniforge3/envs/llamaindex/lib/python3.9/site-packages (from aiohttp<4.0.0,>=3.8.6->llama-index) (4.0.3)\n",
      "Requirement already satisfied: soupsieve>1.2 in /Users/1zuu/miniforge3/envs/llamaindex/lib/python3.9/site-packages (from beautifulsoup4<5.0.0,>=4.12.2->llama-index) (2.5)\n",
      "Requirement already satisfied: wrapt<2,>=1.10 in /Users/1zuu/miniforge3/envs/llamaindex/lib/python3.9/site-packages (from deprecated>=1.2.9.3->llama-index) (1.16.0)\n",
      "Requirement already satisfied: click in /Users/1zuu/miniforge3/envs/llamaindex/lib/python3.9/site-packages (from nltk<4.0.0,>=3.8.1->llama-index) (8.1.7)\n",
      "Requirement already satisfied: joblib in /Users/1zuu/miniforge3/envs/llamaindex/lib/python3.9/site-packages (from nltk<4.0.0,>=3.8.1->llama-index) (1.3.2)\n",
      "Requirement already satisfied: regex>=2021.8.3 in /Users/1zuu/miniforge3/envs/llamaindex/lib/python3.9/site-packages (from nltk<4.0.0,>=3.8.1->llama-index) (2023.10.3)\n",
      "Requirement already satisfied: tqdm in /Users/1zuu/miniforge3/envs/llamaindex/lib/python3.9/site-packages (from nltk<4.0.0,>=3.8.1->llama-index) (4.66.1)\n",
      "Requirement already satisfied: anyio<4,>=3.5.0 in /Users/1zuu/miniforge3/envs/llamaindex/lib/python3.9/site-packages (from openai>=1.1.0->llama-index) (3.7.1)\n",
      "Requirement already satisfied: distro<2,>=1.7.0 in /Users/1zuu/miniforge3/envs/llamaindex/lib/python3.9/site-packages (from openai>=1.1.0->llama-index) (1.8.0)\n",
      "Requirement already satisfied: pydantic<3,>=1.9.0 in /Users/1zuu/miniforge3/envs/llamaindex/lib/python3.9/site-packages (from openai>=1.1.0->llama-index) (2.5.2)\n",
      "Requirement already satisfied: certifi in /Users/1zuu/miniforge3/envs/llamaindex/lib/python3.9/site-packages (from httpx->llama-index) (2023.11.17)\n",
      "Requirement already satisfied: httpcore in /Users/1zuu/miniforge3/envs/llamaindex/lib/python3.9/site-packages (from httpx->llama-index) (1.0.2)\n",
      "Requirement already satisfied: idna in /Users/1zuu/miniforge3/envs/llamaindex/lib/python3.9/site-packages (from httpx->llama-index) (3.4)\n",
      "Requirement already satisfied: sniffio in /Users/1zuu/miniforge3/envs/llamaindex/lib/python3.9/site-packages (from httpx->llama-index) (1.3.0)\n",
      "Requirement already satisfied: greenlet!=0.4.17 in /Users/1zuu/miniforge3/envs/llamaindex/lib/python3.9/site-packages (from SQLAlchemy[asyncio]>=1.4.49->llama-index) (3.0.1)\n",
      "Requirement already satisfied: requests>=2.26.0 in /Users/1zuu/miniforge3/envs/llamaindex/lib/python3.9/site-packages (from tiktoken>=0.3.3->llama-index) (2.31.0)\n",
      "Requirement already satisfied: mypy-extensions>=0.3.0 in /Users/1zuu/miniforge3/envs/llamaindex/lib/python3.9/site-packages (from typing-inspect>=0.8.0->llama-index) (1.0.0)\n",
      "Requirement already satisfied: marshmallow<4.0.0,>=3.18.0 in /Users/1zuu/miniforge3/envs/llamaindex/lib/python3.9/site-packages (from dataclasses-json->llama-index) (3.20.1)\n",
      "Requirement already satisfied: python-dateutil>=2.8.2 in /Users/1zuu/miniforge3/envs/llamaindex/lib/python3.9/site-packages (from pandas->llama-index) (2.8.2)\n",
      "Requirement already satisfied: pytz>=2020.1 in /Users/1zuu/miniforge3/envs/llamaindex/lib/python3.9/site-packages (from pandas->llama-index) (2023.3.post1)\n",
      "Requirement already satisfied: tzdata>=2022.1 in /Users/1zuu/miniforge3/envs/llamaindex/lib/python3.9/site-packages (from pandas->llama-index) (2023.3)\n",
      "Requirement already satisfied: exceptiongroup in /Users/1zuu/miniforge3/envs/llamaindex/lib/python3.9/site-packages (from anyio<4,>=3.5.0->openai>=1.1.0->llama-index) (1.2.0)\n",
      "Requirement already satisfied: packaging>=17.0 in /Users/1zuu/miniforge3/envs/llamaindex/lib/python3.9/site-packages (from marshmallow<4.0.0,>=3.18.0->dataclasses-json->llama-index) (23.2)\n",
      "Requirement already satisfied: annotated-types>=0.4.0 in /Users/1zuu/miniforge3/envs/llamaindex/lib/python3.9/site-packages (from pydantic<3,>=1.9.0->openai>=1.1.0->llama-index) (0.6.0)\n",
      "Requirement already satisfied: pydantic-core==2.14.5 in /Users/1zuu/miniforge3/envs/llamaindex/lib/python3.9/site-packages (from pydantic<3,>=1.9.0->openai>=1.1.0->llama-index) (2.14.5)\n",
      "Requirement already satisfied: six>=1.5 in /Users/1zuu/miniforge3/envs/llamaindex/lib/python3.9/site-packages (from python-dateutil>=2.8.2->pandas->llama-index) (1.16.0)\n",
      "Requirement already satisfied: charset-normalizer<4,>=2 in /Users/1zuu/miniforge3/envs/llamaindex/lib/python3.9/site-packages (from requests>=2.26.0->tiktoken>=0.3.3->llama-index) (3.3.2)\n",
      "Requirement already satisfied: h11<0.15,>=0.13 in /Users/1zuu/miniforge3/envs/llamaindex/lib/python3.9/site-packages (from httpcore->httpx->llama-index) (0.14.0)\n",
      "Requirement already satisfied: openai in /Users/1zuu/miniforge3/envs/llamaindex/lib/python3.9/site-packages (1.3.4)\n",
      "Requirement already satisfied: anyio<4,>=3.5.0 in /Users/1zuu/miniforge3/envs/llamaindex/lib/python3.9/site-packages (from openai) (3.7.1)\n",
      "Requirement already satisfied: distro<2,>=1.7.0 in /Users/1zuu/miniforge3/envs/llamaindex/lib/python3.9/site-packages (from openai) (1.8.0)\n",
      "Requirement already satisfied: httpx<1,>=0.23.0 in /Users/1zuu/miniforge3/envs/llamaindex/lib/python3.9/site-packages (from openai) (0.25.1)\n",
      "Requirement already satisfied: pydantic<3,>=1.9.0 in /Users/1zuu/miniforge3/envs/llamaindex/lib/python3.9/site-packages (from openai) (2.5.2)\n",
      "Requirement already satisfied: tqdm>4 in /Users/1zuu/miniforge3/envs/llamaindex/lib/python3.9/site-packages (from openai) (4.66.1)\n",
      "Requirement already satisfied: typing-extensions<5,>=4.5 in /Users/1zuu/miniforge3/envs/llamaindex/lib/python3.9/site-packages (from openai) (4.8.0)\n",
      "Requirement already satisfied: idna>=2.8 in /Users/1zuu/miniforge3/envs/llamaindex/lib/python3.9/site-packages (from anyio<4,>=3.5.0->openai) (3.4)\n",
      "Requirement already satisfied: sniffio>=1.1 in /Users/1zuu/miniforge3/envs/llamaindex/lib/python3.9/site-packages (from anyio<4,>=3.5.0->openai) (1.3.0)\n",
      "Requirement already satisfied: exceptiongroup in /Users/1zuu/miniforge3/envs/llamaindex/lib/python3.9/site-packages (from anyio<4,>=3.5.0->openai) (1.2.0)\n",
      "Requirement already satisfied: certifi in /Users/1zuu/miniforge3/envs/llamaindex/lib/python3.9/site-packages (from httpx<1,>=0.23.0->openai) (2023.11.17)\n",
      "Requirement already satisfied: httpcore in /Users/1zuu/miniforge3/envs/llamaindex/lib/python3.9/site-packages (from httpx<1,>=0.23.0->openai) (1.0.2)\n",
      "Requirement already satisfied: annotated-types>=0.4.0 in /Users/1zuu/miniforge3/envs/llamaindex/lib/python3.9/site-packages (from pydantic<3,>=1.9.0->openai) (0.6.0)\n",
      "Requirement already satisfied: pydantic-core==2.14.5 in /Users/1zuu/miniforge3/envs/llamaindex/lib/python3.9/site-packages (from pydantic<3,>=1.9.0->openai) (2.14.5)\n",
      "Requirement already satisfied: h11<0.15,>=0.13 in /Users/1zuu/miniforge3/envs/llamaindex/lib/python3.9/site-packages (from httpcore->httpx<1,>=0.23.0->openai) (0.14.0)\n",
      "Requirement already satisfied: pyyaml in /Users/1zuu/miniforge3/envs/llamaindex/lib/python3.9/site-packages (6.0.1)\n",
      "Requirement already satisfied: requests in /Users/1zuu/miniforge3/envs/llamaindex/lib/python3.9/site-packages (2.31.0)\n",
      "Requirement already satisfied: transformers in /Users/1zuu/miniforge3/envs/llamaindex/lib/python3.9/site-packages (4.35.2)\n",
      "Requirement already satisfied: charset-normalizer<4,>=2 in /Users/1zuu/miniforge3/envs/llamaindex/lib/python3.9/site-packages (from requests) (3.3.2)\n",
      "Requirement already satisfied: idna<4,>=2.5 in /Users/1zuu/miniforge3/envs/llamaindex/lib/python3.9/site-packages (from requests) (3.4)\n",
      "Requirement already satisfied: urllib3<3,>=1.21.1 in /Users/1zuu/miniforge3/envs/llamaindex/lib/python3.9/site-packages (from requests) (1.26.18)\n",
      "Requirement already satisfied: certifi>=2017.4.17 in /Users/1zuu/miniforge3/envs/llamaindex/lib/python3.9/site-packages (from requests) (2023.11.17)\n",
      "Requirement already satisfied: filelock in /Users/1zuu/miniforge3/envs/llamaindex/lib/python3.9/site-packages (from transformers) (3.13.1)\n",
      "Requirement already satisfied: huggingface-hub<1.0,>=0.16.4 in /Users/1zuu/miniforge3/envs/llamaindex/lib/python3.9/site-packages (from transformers) (0.19.4)\n",
      "Requirement already satisfied: numpy>=1.17 in /Users/1zuu/miniforge3/envs/llamaindex/lib/python3.9/site-packages (from transformers) (1.26.2)\n",
      "Requirement already satisfied: packaging>=20.0 in /Users/1zuu/miniforge3/envs/llamaindex/lib/python3.9/site-packages (from transformers) (23.2)\n",
      "Requirement already satisfied: regex!=2019.12.17 in /Users/1zuu/miniforge3/envs/llamaindex/lib/python3.9/site-packages (from transformers) (2023.10.3)\n",
      "Requirement already satisfied: tokenizers<0.19,>=0.14 in /Users/1zuu/miniforge3/envs/llamaindex/lib/python3.9/site-packages (from transformers) (0.15.0)\n",
      "Requirement already satisfied: safetensors>=0.3.1 in /Users/1zuu/miniforge3/envs/llamaindex/lib/python3.9/site-packages (from transformers) (0.4.0)\n",
      "Requirement already satisfied: tqdm>=4.27 in /Users/1zuu/miniforge3/envs/llamaindex/lib/python3.9/site-packages (from transformers) (4.66.1)\n",
      "Requirement already satisfied: fsspec>=2023.5.0 in /Users/1zuu/miniforge3/envs/llamaindex/lib/python3.9/site-packages (from huggingface-hub<1.0,>=0.16.4->transformers) (2023.10.0)\n",
      "Requirement already satisfied: typing-extensions>=3.7.4.3 in /Users/1zuu/miniforge3/envs/llamaindex/lib/python3.9/site-packages (from huggingface-hub<1.0,>=0.16.4->transformers) (4.8.0)\n",
      "Collecting torch\n",
      "  Downloading torch-2.1.1-cp39-none-macosx_11_0_arm64.whl.metadata (25 kB)\n",
      "Collecting torchvision\n",
      "  Downloading torchvision-0.16.1-cp39-cp39-macosx_11_0_arm64.whl.metadata (6.6 kB)\n",
      "Collecting torchaudio\n",
      "  Downloading torchaudio-2.1.1-cp39-cp39-macosx_11_0_arm64.whl.metadata (6.4 kB)\n",
      "Requirement already satisfied: filelock in /Users/1zuu/miniforge3/envs/llamaindex/lib/python3.9/site-packages (from torch) (3.13.1)\n",
      "Requirement already satisfied: typing-extensions in /Users/1zuu/miniforge3/envs/llamaindex/lib/python3.9/site-packages (from torch) (4.8.0)\n",
      "Collecting sympy (from torch)\n",
      "  Downloading sympy-1.12-py3-none-any.whl (5.7 MB)\n",
      "\u001b[2K     \u001b[90m━━━━━━━━━━━━━━━━━━━━━━━━━━━━━━━━━━━━━━━━\u001b[0m \u001b[32m5.7/5.7 MB\u001b[0m \u001b[31m4.3 MB/s\u001b[0m eta \u001b[36m0:00:00\u001b[0m00:01\u001b[0m00:01\u001b[0m\n",
      "\u001b[?25hCollecting networkx (from torch)\n",
      "  Downloading networkx-3.2.1-py3-none-any.whl.metadata (5.2 kB)\n",
      "Collecting jinja2 (from torch)\n",
      "  Using cached Jinja2-3.1.2-py3-none-any.whl (133 kB)\n",
      "Requirement already satisfied: fsspec in /Users/1zuu/miniforge3/envs/llamaindex/lib/python3.9/site-packages (from torch) (2023.10.0)\n",
      "Requirement already satisfied: numpy in /Users/1zuu/miniforge3/envs/llamaindex/lib/python3.9/site-packages (from torchvision) (1.26.2)\n",
      "Requirement already satisfied: requests in /Users/1zuu/miniforge3/envs/llamaindex/lib/python3.9/site-packages (from torchvision) (2.31.0)\n",
      "Collecting pillow!=8.3.*,>=5.3.0 (from torchvision)\n",
      "  Downloading Pillow-10.1.0-cp39-cp39-macosx_11_0_arm64.whl.metadata (9.5 kB)\n",
      "Collecting MarkupSafe>=2.0 (from jinja2->torch)\n",
      "  Using cached MarkupSafe-2.1.3-cp39-cp39-macosx_10_9_universal2.whl.metadata (3.0 kB)\n",
      "Requirement already satisfied: charset-normalizer<4,>=2 in /Users/1zuu/miniforge3/envs/llamaindex/lib/python3.9/site-packages (from requests->torchvision) (3.3.2)\n",
      "Requirement already satisfied: idna<4,>=2.5 in /Users/1zuu/miniforge3/envs/llamaindex/lib/python3.9/site-packages (from requests->torchvision) (3.4)\n",
      "Requirement already satisfied: urllib3<3,>=1.21.1 in /Users/1zuu/miniforge3/envs/llamaindex/lib/python3.9/site-packages (from requests->torchvision) (1.26.18)\n",
      "Requirement already satisfied: certifi>=2017.4.17 in /Users/1zuu/miniforge3/envs/llamaindex/lib/python3.9/site-packages (from requests->torchvision) (2023.11.17)\n",
      "Collecting mpmath>=0.19 (from sympy->torch)\n",
      "  Downloading mpmath-1.3.0-py3-none-any.whl (536 kB)\n",
      "\u001b[2K     \u001b[90m━━━━━━━━━━━━━━━━━━━━━━━━━━━━━━━━━━━━━━━\u001b[0m \u001b[32m536.2/536.2 kB\u001b[0m \u001b[31m7.2 MB/s\u001b[0m eta \u001b[36m0:00:00\u001b[0ma \u001b[36m0:00:01\u001b[0m\n",
      "\u001b[?25hDownloading torch-2.1.1-cp39-none-macosx_11_0_arm64.whl (59.6 MB)\n",
      "\u001b[2K   \u001b[90m━━━━━━━━━━━━━━━━━━━━━━━━━━━━━━━━━━━━━━━━\u001b[0m \u001b[32m59.6/59.6 MB\u001b[0m \u001b[31m4.6 MB/s\u001b[0m eta \u001b[36m0:00:00\u001b[0m00:01\u001b[0m00:01\u001b[0m\n",
      "\u001b[?25hDownloading torchvision-0.16.1-cp39-cp39-macosx_11_0_arm64.whl (1.5 MB)\n",
      "\u001b[2K   \u001b[90m━━━━━━━━━━━━━━━━━━━━━━━━━━━━━━━━━━━━━━━━\u001b[0m \u001b[32m1.5/1.5 MB\u001b[0m \u001b[31m5.8 MB/s\u001b[0m eta \u001b[36m0:00:00\u001b[0ma \u001b[36m0:00:01\u001b[0m\n",
      "\u001b[?25hDownloading torchaudio-2.1.1-cp39-cp39-macosx_11_0_arm64.whl (1.7 MB)\n",
      "\u001b[2K   \u001b[90m━━━━━━━━━━━━━━━━━━━━━━━━━━━━━━━━━━━━━━━━\u001b[0m \u001b[32m1.7/1.7 MB\u001b[0m \u001b[31m6.4 MB/s\u001b[0m eta \u001b[36m0:00:00\u001b[0ma \u001b[36m0:00:01\u001b[0m\n",
      "\u001b[?25hDownloading Pillow-10.1.0-cp39-cp39-macosx_11_0_arm64.whl (3.3 MB)\n",
      "\u001b[2K   \u001b[90m━━━━━━━━━━━━━━━━━━━━━━━━━━━━━━━━━━━━━━━━\u001b[0m \u001b[32m3.3/3.3 MB\u001b[0m \u001b[31m7.0 MB/s\u001b[0m eta \u001b[36m0:00:00\u001b[0ma \u001b[36m0:00:01\u001b[0m\n",
      "\u001b[?25hDownloading networkx-3.2.1-py3-none-any.whl (1.6 MB)\n",
      "\u001b[2K   \u001b[90m━━━━━━━━━━━━━━━━━━━━━━━━━━━━━━━━━━━━━━━━\u001b[0m \u001b[32m1.6/1.6 MB\u001b[0m \u001b[31m5.8 MB/s\u001b[0m eta \u001b[36m0:00:00\u001b[0ma \u001b[36m0:00:01\u001b[0m\n",
      "\u001b[?25hUsing cached MarkupSafe-2.1.3-cp39-cp39-macosx_10_9_universal2.whl (17 kB)\n",
      "Installing collected packages: mpmath, sympy, pillow, networkx, MarkupSafe, jinja2, torch, torchvision, torchaudio\n",
      "Successfully installed MarkupSafe-2.1.3 jinja2-3.1.2 mpmath-1.3.0 networkx-3.2.1 pillow-10.1.0 sympy-1.12 torch-2.1.1 torchaudio-2.1.1 torchvision-0.16.1\n"
     ]
    }
   ],
   "source": [
    "# !pip install html2text requests_html\n",
    "# !pip install -U llama-index\n",
    "# !pip install -U openai\n",
    "# !pip install pyyaml requests transformers\n",
    "# !pip3 install torch torchvision torchaudio"
   ]
  },
  {
   "cell_type": "code",
   "execution_count": 1,
   "metadata": {},
   "outputs": [],
   "source": [
    "import sys\n",
    "import logging\n",
    "import html2text\n",
    "import nest_asyncio\n",
    "from typing import List\n",
    "import yaml, os, openai, textwrap\n",
    "from llama_index.llms import OpenAI\n",
    "from requests_html import HTMLSession\n",
    "from llama_index.llms import AzureOpenAI\n",
    "from llama_index.llm_predictor import LLMPredictor\n",
    "from llama_index import set_global_service_context\n",
    "from llama_index.embeddings import HuggingFaceEmbedding\n",
    "from llama_index import StorageContext, load_index_from_storage\n",
    "from llama_index import ServiceContext, SimpleDirectoryReader, TreeIndex, VectorStoreIndex"
   ]
  },
  {
   "cell_type": "code",
   "execution_count": 2,
   "metadata": {},
   "outputs": [
    {
     "name": "stdout",
     "output_type": "stream",
     "text": [
      "llama-index version: 0.9.5\n",
      "openai version: 1.3.4\n"
     ]
    }
   ],
   "source": [
    "import llama_index, openai\n",
    "print(\"llama-index version:\", llama_index.__version__)\n",
    "print(\"openai version:\", openai.__version__)\n",
    "\n",
    "logging.basicConfig(stream=sys.stdout, level=logging.INFO)\n",
    "logging.getLogger().addHandler(logging.StreamHandler(stream=sys.stdout))"
   ]
  },
  {
   "cell_type": "code",
   "execution_count": 3,
   "metadata": {},
   "outputs": [],
   "source": [
    "with open('/Users/1zuu/Desktop/LLM RESEARCH/awesome-llm-projects/cadentials.yaml') as f:\n",
    "    credentials = yaml.load(f, Loader=yaml.FullLoader)\n",
    "\n",
    "# os.environ[\"OPENAI_API_TYPE\"] = credentials['AD_OPENAI_API_TYPE']\n",
    "# os.environ[\"OPENAI_API_VERSION\"] = credentials['AD_OPENAI_API_VERSION']\n",
    "# os.environ[\"OPENAI_API_BASE\"] = credentials['AD_OPENAI_API_BASE']\n",
    "# os.environ[\"OPENAI_API_KEY\"] = credentials['AD_OPENAI_API_KEY']"
   ]
  },
  {
   "cell_type": "code",
   "execution_count": 4,
   "metadata": {},
   "outputs": [
    {
     "name": "stderr",
     "output_type": "stream",
     "text": [
      "/Users/1zuu/miniforge3/envs/llamaindex/lib/python3.9/site-packages/tqdm/auto.py:21: TqdmWarning: IProgress not found. Please update jupyter and ipywidgets. See https://ipywidgets.readthedocs.io/en/stable/user_install.html\n",
      "  from .autonotebook import tqdm as notebook_tqdm\n"
     ]
    }
   ],
   "source": [
    "chat_llm = LLMPredictor(\n",
    "                        llm=AzureOpenAI(\n",
    "                                        deployment_name=credentials['AD_DEPLOYMENT_ID'],\n",
    "                                        model=credentials['AD_ENGINE'],\n",
    "                                        api_key=credentials['AD_OPENAI_API_KEY'],\n",
    "                                        api_version=credentials['AD_OPENAI_API_VERSION'],\n",
    "                                        azure_endpoint=credentials['AD_OPENAI_API_BASE']\n",
    "                                        )\n",
    "                        )\n",
    "embedding_llm = HuggingFaceEmbedding(model_name=\"BAAI/bge-small-en-v1.5\")\n",
    "\n",
    "service_context = ServiceContext.from_defaults(\n",
    "                                                llm_predictor=chat_llm,\n",
    "                                                embed_model=embedding_llm,\n",
    "                                                )\n",
    "\n",
    "set_global_service_context(service_context)"
   ]
  },
  {
   "cell_type": "code",
   "execution_count": 17,
   "metadata": {},
   "outputs": [
    {
     "name": "stdout",
     "output_type": "stream",
     "text": [
      "Downloading https://quickstarts.snowflake.com/guide/data_engineering_pipelines_with_snowpark_python into data_engineering_pipelines_with_snowpark_python.md...\n"
     ]
    },
    {
     "name": "stderr",
     "output_type": "stream",
     "text": [
      "/var/folders/r0/7mcjzfsn6dg22x_bqcsmp06h0000gn/T/ipykernel_4432/2376321995.py:19: RuntimeWarning: coroutine 'HTML.arender' was never awaited\n",
      "  response.html.arender()\n",
      "RuntimeWarning: Enable tracemalloc to get the object allocation traceback\n"
     ]
    },
    {
     "name": "stdout",
     "output_type": "stream",
     "text": [
      "Downloading https://quickstarts.snowflake.com/guide/cloud_native_data_engineering_with_matillion_and_snowflake into cloud_native_data_engineering_with_matillion_and_snowflake.md...\n",
      "Downloading https://quickstarts.snowflake.com/guide/data_engineering_with_apache_airflow into data_engineering_with_apache_airflow.md...\n",
      "Downloading https://quickstarts.snowflake.com/guide/getting_started_with_dataengineering_ml_using_snowpark_python into getting_started_with_dataengineering_ml_using_snowpark_python.md...\n",
      "Downloading https://quickstarts.snowflake.com/guide/data_engineering_with_snowpark_python_and_dbt into data_engineering_with_snowpark_python_and_dbt.md...\n"
     ]
    },
    {
     "data": {
      "text/plain": [
       "'blogs'"
      ]
     },
     "execution_count": 17,
     "metadata": {},
     "output_type": "execute_result"
    }
   ],
   "source": [
    "def download_and_save_in_markdown(\n",
    "                                url: str, \n",
    "                                dir_path: str\n",
    "                                ) -> None:\n",
    "    \"\"\"Download the HTML content from the web page and save it as a markdown file.\"\"\"\n",
    "    # Extract a filename from the URL\n",
    "    if url.endswith(\"/\"):\n",
    "        url = url[:-1]\n",
    "\n",
    "    filename = url.split(\"/\")[-1] + \".md\"\n",
    "    print(f\"Downloading {url} into {filename}...\")\n",
    "\n",
    "    nest_asyncio.apply()\n",
    "\n",
    "    session = HTMLSession()\n",
    "    response = session.get(url, timeout=30)\n",
    "\n",
    "    # Render the page, which will execute JavaScript\n",
    "    response.html.arender()\n",
    "\n",
    "    # Convert the rendered HTML content to markdown\n",
    "    h = html2text.HTML2Text()\n",
    "    markdown_content = h.handle(response.html.raw_html.decode(\"utf-8\"))\n",
    "\n",
    "    # Write the markdown content to a file\n",
    "    filename = os.path.join(dir_path, filename)\n",
    "    if not os.path.exists(filename):\n",
    "        with open(filename, \"w\", encoding=\"utf-8\") as f:\n",
    "            f.write(markdown_content)\n",
    "\n",
    "\n",
    "def download(pages: List[str]) -> str:\n",
    "    \"\"\"Download the HTML content from the pages and save them as markdown files.\"\"\"\n",
    "    # Create the content/notion directory if it doesn't exist\n",
    "    # base_dir = os.path.dirname(os.path.abspath(__file__))\n",
    "    dir_path = \"blogs\"\n",
    "    os.makedirs(dir_path, exist_ok=True)\n",
    "    for page in pages:\n",
    "        download_and_save_in_markdown(page, dir_path)\n",
    "    return dir_path\n",
    "\n",
    "\n",
    "PAGES = [\n",
    "    \"https://quickstarts.snowflake.com/guide/data_engineering_pipelines_with_snowpark_python\",\n",
    "    \"https://quickstarts.snowflake.com/guide/cloud_native_data_engineering_with_matillion_and_snowflake\",\n",
    "    \"https://quickstarts.snowflake.com/guide/data_engineering_with_apache_airflow\",\n",
    "    \"https://quickstarts.snowflake.com/guide/getting_started_with_dataengineering_ml_using_snowpark_python\",\n",
    "    \"https://quickstarts.snowflake.com/guide/data_engineering_with_snowpark_python_and_dbt\"\n",
    "]\n",
    "\n",
    "download(PAGES)"
   ]
  },
  {
   "cell_type": "code",
   "execution_count": 8,
   "metadata": {},
   "outputs": [],
   "source": [
    "def build_index(\n",
    "                data_dir: str, \n",
    "                knowledge_base_dir: str\n",
    "                ) -> None:\n",
    "    \"\"\"Build the vector index from the markdown files in the directory.\"\"\"\n",
    "\n",
    "    print(\"Building vector index...\")\n",
    "    documents = SimpleDirectoryReader(data_dir).load_data()\n",
    "\n",
    "    # index = TreeIndex.from_documents(documents, service_context=service_context)\n",
    "    index = VectorStoreIndex.from_documents(\n",
    "                                                    documents, \n",
    "                                                    service_context=service_context, \n",
    "                                                    show_progress=True\n",
    "                                                    )\n",
    "    index.storage_context.persist(persist_dir=knowledge_base_dir)\n",
    "    print(\"Done.\")"
   ]
  },
  {
   "cell_type": "code",
   "execution_count": 9,
   "metadata": {},
   "outputs": [
    {
     "name": "stdout",
     "output_type": "stream",
     "text": [
      "Building vector index...\n"
     ]
    },
    {
     "name": "stderr",
     "output_type": "stream",
     "text": [
      "Parsing nodes: 100%|██████████| 137/137 [00:00<00:00, 1805.12it/s]\n",
      "Generating embeddings: 100%|██████████| 145/145 [00:03<00:00, 38.95it/s]\n"
     ]
    },
    {
     "name": "stdout",
     "output_type": "stream",
     "text": [
      "Done.\n"
     ]
    }
   ],
   "source": [
    "build_index('blogs/', 'kb/')"
   ]
  },
  {
   "cell_type": "code",
   "execution_count": 5,
   "metadata": {},
   "outputs": [],
   "source": [
    "def load_index(knowledge_base_dir: str) -> VectorStoreIndex:\n",
    "    \"\"\"Load the vector index from the directory.\"\"\"\n",
    "    print(\"Loading vector index...\")\n",
    "    storage_context = StorageContext.from_defaults(persist_dir=knowledge_base_dir)\n",
    "    index = load_index_from_storage(storage_context=storage_context)\n",
    "    query_engine = index.as_query_engine()\n",
    "    print(\"Done.\")\n",
    "    return query_engine"
   ]
  },
  {
   "cell_type": "code",
   "execution_count": 6,
   "metadata": {},
   "outputs": [
    {
     "name": "stdout",
     "output_type": "stream",
     "text": [
      "Loading vector index...\n",
      "INFO:llama_index.indices.loading:Loading all indices.\n",
      "Loading all indices.\n",
      "Done.\n"
     ]
    }
   ],
   "source": [
    "query_engine = load_index('kb/')"
   ]
  },
  {
   "cell_type": "code",
   "execution_count": 11,
   "metadata": {},
   "outputs": [],
   "source": [
    "def chat_inference(\n",
    "                    query: str,\n",
    "                    top_k: int = 5\n",
    "                    ) -> None:\n",
    "    \"\"\"Run a query against the index and print the results.\"\"\"\n",
    "    results = query_engine.query(query)\n",
    "    print(f\"Query: {query}\")\n",
    "    print(f\"Response: {results}\")"
   ]
  },
  {
   "cell_type": "code",
   "execution_count": 12,
   "metadata": {},
   "outputs": [
    {
     "name": "stdout",
     "output_type": "stream",
     "text": [
      "INFO:httpx:HTTP Request: POST https://doc-ocr-adl.openai.azure.com//openai/deployments/chat_model/chat/completions?api-version=2023-05-15 \"HTTP/1.1 200 OK\"\n",
      "HTTP Request: POST https://doc-ocr-adl.openai.azure.com//openai/deployments/chat_model/chat/completions?api-version=2023-05-15 \"HTTP/1.1 200 OK\"\n",
      "Query: what data engineers are focused primarily ?\n",
      "Response: Data engineers are primarily focused on the data transformation phase, which involves taking source data, cleansing it, combining it, and modeling it for downstream use.\n"
     ]
    }
   ],
   "source": [
    "chat_inference(\"what data engineers are focused primarily ?\")"
   ]
  }
 ],
 "metadata": {
  "kernelspec": {
   "display_name": "Python 3",
   "language": "python",
   "name": "python3"
  },
  "language_info": {
   "codemirror_mode": {
    "name": "ipython",
    "version": 3
   },
   "file_extension": ".py",
   "mimetype": "text/x-python",
   "name": "python",
   "nbconvert_exporter": "python",
   "pygments_lexer": "ipython3",
   "version": "3.9.18"
  }
 },
 "nbformat": 4,
 "nbformat_minor": 2
}
